{
 "cells": [
  {
   "cell_type": "markdown",
   "id": "frozen-wilson",
   "metadata": {},
   "source": [
    "# Database connection testing\n",
    "This notebook is for prototyping the database connection and testing methodologies for sending and recieving data."
   ]
  },
  {
   "cell_type": "code",
   "execution_count": 1,
   "id": "eligible-warren",
   "metadata": {},
   "outputs": [],
   "source": [
    "# Package Imports\n",
    "import psycopg2\n",
    "import os"
   ]
  },
  {
   "cell_type": "code",
   "execution_count": 2,
   "id": "gothic-evanescence",
   "metadata": {},
   "outputs": [],
   "source": [
    "# Credentials for connecting to the database\n",
    "\n",
    "rds_username = os.getenv('rds_username')\n",
    "rds_password = os.getenv('rds_password')\n",
    "rds_endpoint = os.getenv('DATABASE_URL')\n",
    "port = '5432'\n",
    "database_name = 'hrfasyluma'"
   ]
  },
  {
   "cell_type": "code",
   "execution_count": 3,
   "id": "christian-looking",
   "metadata": {},
   "outputs": [],
   "source": [
    "pg_conn = psycopg2.connect(dbname=database_name, user=rds_username,\n",
    "                           password=rds_password, host=rds_endpoint)"
   ]
  },
  {
   "cell_type": "code",
   "execution_count": 4,
   "id": "blocked-nylon",
   "metadata": {},
   "outputs": [
    {
     "data": {
      "text/plain": [
       "<connection object at 0x114b5a050; dsn: 'user=hrfasyluma password=xxx dbname=hrfasyluma host=hrfasylum-database-a.catpmmwmrkhp.us-east-1.rds.amazonaws.com', closed: 0>"
      ]
     },
     "execution_count": 4,
     "metadata": {},
     "output_type": "execute_result"
    }
   ],
   "source": [
    "pg_conn"
   ]
  },
  {
   "cell_type": "code",
   "execution_count": 5,
   "id": "brief-microphone",
   "metadata": {},
   "outputs": [],
   "source": [
    "cur = pg_conn.cursor()"
   ]
  },
  {
   "cell_type": "code",
   "execution_count": 6,
   "id": "automated-truth",
   "metadata": {},
   "outputs": [
    {
     "data": {
      "text/plain": [
       "[('judge',),\n",
       " ('case',),\n",
       " ('user',),\n",
       " ('book_mark_judge',),\n",
       " ('book_mark_case',),\n",
       " ('test_table',)]"
      ]
     },
     "execution_count": 6,
     "metadata": {},
     "output_type": "execute_result"
    }
   ],
   "source": [
    "query = \"\"\"\n",
    "    SELECT table_name FROM information_schema.tables WHERE table_schema = 'public'\n",
    "    \"\"\"\n",
    "\n",
    "cur.execute(query)\n",
    "cur.fetchall()"
   ]
  },
  {
   "cell_type": "code",
   "execution_count": 7,
   "id": "utility-jesus",
   "metadata": {},
   "outputs": [
    {
     "data": {
      "text/plain": [
       "[('test',\n",
       "  1,\n",
       "  'test',\n",
       "  'test',\n",
       "  'test',\n",
       "  'test',\n",
       "  'test',\n",
       "  'test',\n",
       "  'test',\n",
       "  'test',\n",
       "  'test',\n",
       "  'test',\n",
       "  1)]"
      ]
     },
     "execution_count": 7,
     "metadata": {},
     "output_type": "execute_result"
    }
   ],
   "source": [
    "cur.execute('SELECT * FROM public.case;')\n",
    "cur.fetchall()"
   ]
  },
  {
   "cell_type": "code",
   "execution_count": null,
   "id": "dimensional-rendering",
   "metadata": {},
   "outputs": [],
   "source": []
  }
 ],
 "metadata": {
  "kernelspec": {
   "display_name": "Python 3",
   "language": "python",
   "name": "python3"
  },
  "language_info": {
   "codemirror_mode": {
    "name": "ipython",
    "version": 3
   },
   "file_extension": ".py",
   "mimetype": "text/x-python",
   "name": "python",
   "nbconvert_exporter": "python",
   "pygments_lexer": "ipython3",
   "version": "3.7.9"
  }
 },
 "nbformat": 4,
 "nbformat_minor": 5
}
