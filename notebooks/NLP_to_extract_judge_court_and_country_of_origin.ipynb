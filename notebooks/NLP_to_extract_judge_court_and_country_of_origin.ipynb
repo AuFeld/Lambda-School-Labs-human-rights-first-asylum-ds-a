{
 "cells": [
  {
   "cell_type": "code",
   "execution_count": 1,
   "metadata": {
    "colab": {
     "base_uri": "https://localhost:8080/"
    },
    "id": "c7oqz2lv6hPQ",
    "outputId": "a6881a5b-de37-453f-d8f2-61128479e595"
   },
   "outputs": [
    {
     "name": "stdout",
     "output_type": "stream",
     "text": [
      "/Users/jeremyspradlin/.local/share/virtualenvs/Lambda-School-Labs-human-rights-first-asyl-Kg_LyPhr/bin/python: No module named spacy\r\n"
     ]
    },
    {
     "ename": "ModuleNotFoundError",
     "evalue": "No module named 'spacy'",
     "output_type": "error",
     "traceback": [
      "\u001b[0;31m---------------------------------------------------------------------------\u001b[0m",
      "\u001b[0;31mModuleNotFoundError\u001b[0m                       Traceback (most recent call last)",
      "\u001b[0;32m<ipython-input-1-90eda0471837>\u001b[0m in \u001b[0;36m<module>\u001b[0;34m\u001b[0m\n\u001b[1;32m      1\u001b[0m \u001b[0mget_ipython\u001b[0m\u001b[0;34m(\u001b[0m\u001b[0;34m)\u001b[0m\u001b[0;34m.\u001b[0m\u001b[0msystem\u001b[0m\u001b[0;34m(\u001b[0m\u001b[0;34m'python -m spacy download en_core_web_sm'\u001b[0m\u001b[0;34m)\u001b[0m\u001b[0;34m\u001b[0m\u001b[0;34m\u001b[0m\u001b[0m\n\u001b[0;32m----> 2\u001b[0;31m \u001b[0;32mimport\u001b[0m \u001b[0mspacy\u001b[0m\u001b[0;34m\u001b[0m\u001b[0;34m\u001b[0m\u001b[0m\n\u001b[0m\u001b[1;32m      3\u001b[0m \u001b[0;34m\u001b[0m\u001b[0m\n\u001b[1;32m      4\u001b[0m \u001b[0mnlp\u001b[0m \u001b[0;34m=\u001b[0m \u001b[0mspacy\u001b[0m\u001b[0;34m.\u001b[0m\u001b[0mload\u001b[0m\u001b[0;34m(\u001b[0m\u001b[0;34m'en_core_web_sm'\u001b[0m\u001b[0;34m)\u001b[0m\u001b[0;34m\u001b[0m\u001b[0;34m\u001b[0m\u001b[0m\n",
      "\u001b[0;31mModuleNotFoundError\u001b[0m: No module named 'spacy'"
     ]
    }
   ],
   "source": [
    "!python -m spacy download en_core_web_sm\n",
    "import spacy\n",
    "\n",
    "nlp = spacy.load('en_core_web_sm')"
   ]
  },
  {
   "cell_type": "code",
   "execution_count": null,
   "metadata": {
    "colab": {
     "base_uri": "https://localhost:8080/"
    },
    "id": "Aik3a65e--bJ",
    "outputId": "3133495a-c323-4250-ec86-c9a92b3024c1"
   },
   "outputs": [
    {
     "name": "stdout",
     "output_type": "stream",
     "text": [
      "Requirement already satisfied: Pillow in /Users/jeremyspradlin/.local/share/virtualenvs/Lambda-School-Labs-human-rights-first-asyl-Kg_LyPhr/lib/python3.7/site-packages (8.1.0)\n",
      "Requirement already satisfied: pytesseract in /Users/jeremyspradlin/.local/share/virtualenvs/Lambda-School-Labs-human-rights-first-asyl-Kg_LyPhr/lib/python3.7/site-packages (0.3.7)\n",
      "Requirement already satisfied: Pillow in /Users/jeremyspradlin/.local/share/virtualenvs/Lambda-School-Labs-human-rights-first-asyl-Kg_LyPhr/lib/python3.7/site-packages (from pytesseract) (8.1.0)\n",
      "Requirement already satisfied: pdf2image in /Users/jeremyspradlin/.local/share/virtualenvs/Lambda-School-Labs-human-rights-first-asyl-Kg_LyPhr/lib/python3.7/site-packages (1.14.0)\n",
      "Requirement already satisfied: pillow in /Users/jeremyspradlin/.local/share/virtualenvs/Lambda-School-Labs-human-rights-first-asyl-Kg_LyPhr/lib/python3.7/site-packages (from pdf2image) (8.1.0)\n",
      "Password:"
     ]
    }
   ],
   "source": [
    "!pip3 install Pillow\n",
    "!pip3 install pytesseract\n",
    "!pip3 install pdf2image\n",
    "!sudo apt-get install tesseract-ocr"
   ]
  },
  {
   "cell_type": "code",
   "execution_count": 3,
   "metadata": {
    "colab": {
     "base_uri": "https://localhost:8080/"
    },
    "id": "z3slghPi_Jdi",
    "outputId": "94bf6ab3-e3a4-44b4-b2ae-a2089530d45d"
   },
   "outputs": [
    {
     "name": "stdout",
     "output_type": "stream",
     "text": [
      "Get:1 https://cloud.r-project.org/bin/linux/ubuntu bionic-cran40/ InRelease [3,626 B]\n",
      "Ign:2 https://developer.download.nvidia.com/compute/cuda/repos/ubuntu1804/x86_64  InRelease\n",
      "Get:3 https://cloud.r-project.org/bin/linux/ubuntu bionic-cran40/ Packages [41.5 kB]\n",
      "Ign:4 https://developer.download.nvidia.com/compute/machine-learning/repos/ubuntu1804/x86_64  InRelease\n",
      "Hit:5 https://developer.download.nvidia.com/compute/cuda/repos/ubuntu1804/x86_64  Release\n",
      "Hit:6 https://developer.download.nvidia.com/compute/machine-learning/repos/ubuntu1804/x86_64  Release\n",
      "Hit:7 http://archive.ubuntu.com/ubuntu bionic InRelease\n",
      "Get:8 http://ppa.launchpad.net/c2d4u.team/c2d4u4.0+/ubuntu bionic InRelease [15.9 kB]\n",
      "Get:9 http://security.ubuntu.com/ubuntu bionic-security InRelease [88.7 kB]\n",
      "Get:11 http://archive.ubuntu.com/ubuntu bionic-updates InRelease [88.7 kB]\n",
      "Hit:13 http://ppa.launchpad.net/cran/libgit2/ubuntu bionic InRelease\n",
      "Get:14 http://archive.ubuntu.com/ubuntu bionic-backports InRelease [74.6 kB]\n",
      "Get:15 http://security.ubuntu.com/ubuntu bionic-security/multiverse amd64 Packages [14.9 kB]\n",
      "Hit:16 http://ppa.launchpad.net/graphics-drivers/ppa/ubuntu bionic InRelease\n",
      "Get:17 http://security.ubuntu.com/ubuntu bionic-security/universe amd64 Packages [1,376 kB]\n",
      "Get:18 http://archive.ubuntu.com/ubuntu bionic-updates/main amd64 Packages [2,273 kB]\n",
      "Get:19 http://ppa.launchpad.net/c2d4u.team/c2d4u4.0+/ubuntu bionic/main Sources [1,705 kB]\n",
      "Get:20 http://security.ubuntu.com/ubuntu bionic-security/main amd64 Packages [1,846 kB]\n",
      "Get:21 http://security.ubuntu.com/ubuntu bionic-security/restricted amd64 Packages [247 kB]\n",
      "Get:22 http://archive.ubuntu.com/ubuntu bionic-updates/universe amd64 Packages [2,140 kB]\n",
      "Get:23 http://archive.ubuntu.com/ubuntu bionic-updates/multiverse amd64 Packages [53.4 kB]\n",
      "Get:24 http://archive.ubuntu.com/ubuntu bionic-updates/restricted amd64 Packages [277 kB]\n",
      "Get:25 http://ppa.launchpad.net/c2d4u.team/c2d4u4.0+/ubuntu bionic/main amd64 Packages [873 kB]\n",
      "Fetched 11.1 MB in 6s (1,986 kB/s)\n",
      "Reading package lists... Done\n"
     ]
    }
   ],
   "source": [
    "!apt-get update"
   ]
  },
  {
   "cell_type": "code",
   "execution_count": 4,
   "metadata": {
    "colab": {
     "base_uri": "https://localhost:8080/"
    },
    "id": "2PxS0RKu_PLg",
    "outputId": "ad90eb55-869b-42d3-8578-c866b42cd0d7"
   },
   "outputs": [
    {
     "name": "stdout",
     "output_type": "stream",
     "text": [
      "Reading package lists... Done\n",
      "Building dependency tree       \n",
      "Reading state information... Done\n",
      "The following NEW packages will be installed:\n",
      "  poppler-utils\n",
      "0 upgraded, 1 newly installed, 0 to remove and 27 not upgraded.\n",
      "Need to get 154 kB of archives.\n",
      "After this operation, 613 kB of additional disk space will be used.\n",
      "Get:1 http://archive.ubuntu.com/ubuntu bionic-updates/main amd64 poppler-utils amd64 0.62.0-2ubuntu2.12 [154 kB]\n",
      "Fetched 154 kB in 2s (102 kB/s)\n",
      "Selecting previously unselected package poppler-utils.\n",
      "(Reading database ... 145527 files and directories currently installed.)\n",
      "Preparing to unpack .../poppler-utils_0.62.0-2ubuntu2.12_amd64.deb ...\n",
      "Unpacking poppler-utils (0.62.0-2ubuntu2.12) ...\n",
      "Setting up poppler-utils (0.62.0-2ubuntu2.12) ...\n",
      "Processing triggers for man-db (2.8.3-2ubuntu0.1) ...\n"
     ]
    }
   ],
   "source": [
    "!apt-get install poppler-utils --fix-missing"
   ]
  },
  {
   "cell_type": "code",
   "execution_count": 6,
   "metadata": {
    "id": "aliqoDOO-5om"
   },
   "outputs": [],
   "source": [
    "from PIL import Image \n",
    "import pytesseract \n",
    "import sys \n",
    "from pdf2image import convert_from_path \n",
    "import os \n",
    "import re\n",
    "import spacy"
   ]
  },
  {
   "cell_type": "code",
   "execution_count": 7,
   "metadata": {
    "colab": {
     "base_uri": "https://localhost:8080/"
    },
    "id": "d4syWW4umVaq",
    "outputId": "ce76eb9e-ff14-4ea2-9aca-190851f40d4c"
   },
   "outputs": [
    {
     "data": {
      "text/plain": [
       "['457374430-A-E-M-P-AXXX-XXX-795-BIA-March-16-2020.pdf',\n",
       " '473847009-A-J-V-U-AXXX-XXX-645-BIA-July-10-2020.pdf',\n",
       " '477308213-M-S-F-AXXX-XXX-188-BIA-Aug-27-2020.pdf',\n",
       " '386774234-D-T-AXXX-XXX-959-BIA-July-27-2018.pdf',\n",
       " '452083522-M-A-D-A-AXXX-XXX-603-BIA-Feb-11-2020.pdf',\n",
       " '470814353-K-I-AXXX-XXX-247-BIA-July-7-2020.pdf',\n",
       " '431711050-C-N-A-AXXX-XXX-484-BIA-Sept-12-2019.pdf',\n",
       " '427098696-Y-M-G-L-AXXX-XXX-119-BIA-Sept-4-2019.pdf',\n",
       " '447696312-J-V-S-E-AXXX-XXX-159-BIA-Jan-10-2020.pdf',\n",
       " '462824675-D-E-D-L-AXXX-XXX-662-BIA-April-10-2020.pdf',\n",
       " '431716865-N-G-M-AXXX-XXX-926-BIA-Oct-4-2019.pdf',\n",
       " '470813340-J-S-R-Z-AXXX-XXX-188-BIA-June-24-2020.pdf',\n",
       " '431716768-M-H-AXXX-XXX-860-BIA-Oct-4-2019.pdf',\n",
       " '473846393-K-I-AXXX-XXX-247-BIA-July-7-2020.pdf',\n",
       " '470810825-M-M-A-AXXX-XXX-675-BIA-June-9-2020.pdf',\n",
       " '462828817-Z-M-AXXX-XXX-820-BIA-April-30-2020.pdf']"
      ]
     },
     "execution_count": 7,
     "metadata": {
      "tags": []
     },
     "output_type": "execute_result"
    }
   ],
   "source": [
    "pdfs = [file for file in os.listdir() if '.pdf' in file]\n",
    "pdfs"
   ]
  },
  {
   "cell_type": "code",
   "execution_count": 8,
   "metadata": {
    "colab": {
     "base_uri": "https://localhost:8080/"
    },
    "id": "bqU_28oydZXv",
    "outputId": "498520d7-c40e-4da5-baf4-01b154e2da5c"
   },
   "outputs": [
    {
     "data": {
      "text/plain": [
       "False"
      ]
     },
     "execution_count": 8,
     "metadata": {
      "tags": []
     },
     "output_type": "execute_result"
    }
   ],
   "source": [
    "os.path.isdir('./temp/')"
   ]
  },
  {
   "cell_type": "code",
   "execution_count": 9,
   "metadata": {
    "id": "NPQM640K-0MZ"
   },
   "outputs": [],
   "source": [
    "def ocr_func(pdf_file, txt_folder = './temp/'):\n",
    "    '''\n",
    "    Takes an uploaded .pdf file, converts it to plain text, and saves it as a\n",
    "    .txt file\n",
    "    '''\n",
    "    #update to recieve input .pdf file as a variable?\n",
    "\n",
    "    pages = convert_from_path(pdf_file, dpi=300)\n",
    "\n",
    "    num_pages = 0\n",
    "\n",
    "    for image_counter, page in enumerate(pages):\n",
    "        filename = 'page_' + str(image_counter) + '.jpg'\n",
    "        page.save(filename, 'JPEG')\n",
    "        num_pages += 1\n",
    "    if not os.path.isdir(txt_folder):\n",
    "      os.mkdir(txt_folder)\n",
    "    outfile = ''.join(['./temp/',pdf_file.split('.')[0], '.txt'])\n",
    "    fulltext = []\n",
    "    f = open(outfile, 'a')\n",
    "\n",
    "    for i in range(num_pages):\n",
    "        filename = 'page_' + str(i) + '.jpg'\n",
    "        text = str(((pytesseract.image_to_string(Image.open(filename)))))\n",
    "        os.remove(filename)\n",
    "        # os.remove(pdf_file)\n",
    "        text = text.replace('-\\n', '')\n",
    "        fulltext.append(text)\n",
    "        f.write(text)\n",
    "\n",
    "    f.close()\n",
    "\n",
    "    return (outfile[len(txt_folder):],''.join(fulltext).split('\\n\\n'))"
   ]
  },
  {
   "cell_type": "code",
   "execution_count": 11,
   "metadata": {
    "id": "bQFIIVvcobgT"
   },
   "outputs": [],
   "source": [
    "def getJudge(text: list) -> tuple:\n",
    "        '''\n",
    "        In an appeal document, finds the name of the judge on the appeal\n",
    "        returns a tuple of 'high confidence' or 'low confidence' \n",
    "        and the name of the judge\n",
    "        If the word 'judge' is near the token, high confidence is returned\n",
    "        This is because the judge name is followed or preceded by their title\n",
    "        '''\n",
    "        nlp = spacy.load('en_core_web_sm')\n",
    "        spaceSepText = ' '.join(text)\n",
    "        doc = nlp(spaceSepText)\n",
    "        people = [ent for ent in doc.ents if ent.label_ == 'PERSON'\n",
    "                        and len(ent.text.split(' ')) in (2,3)][-5:]\n",
    "        possibleJudges = [doc[person.start-4:person.end+4] for person in people]\n",
    "        # print(possibleJudges)\n",
    "        for idx, tokens in enumerate(possibleJudges):\n",
    "            if 'judge' in str(tokens).lower():\n",
    "              return ('High confidence', people[idx])\n",
    "        return ('low confidence', max(sorted(people, key = len)))\n",
    "\n",
    "def isAppeal(text):\n",
    "  appeal = re.compile(r\"(IN REMOVAL PROCEEDINGS\\nAPPEAL($|\\n)|\\nAPPEAL\\n)\")\n",
    "  return appeal.search('\\n'.join(text))"
   ]
  },
  {
   "cell_type": "code",
   "execution_count": 12,
   "metadata": {
    "id": "FgOkWmX2cWyN"
   },
   "outputs": [],
   "source": [
    "def getCourt(text: list):\n",
    "  nlp = spacy.load('en_core_web_sm')\n",
    "  spaceSepText = ' '.join(text)\n",
    "  doc = nlp(spaceSepText)\n",
    "  court = [ent for ent in doc.ents if ent.label_ == 'GPE']\n",
    "  return court[0].text + ', ' +  court[1].text\n",
    "\n",
    "def getCoO(text: list):\n",
    "  nlp = spacy.load('en_core_web_sm')\n",
    "  spaceSepText = ' '.join(text)\n",
    "  doc = nlp(spaceSepText)\n",
    "  places = [ent for ent in doc.ents if ent.label_ == 'GPE']\n",
    "  possibleCoO = [doc[place.start-4:place.end+4] for place in places]\n",
    "  for idx, token in enumerate(possibleCoO):\n",
    "    return max(sorted(places, key = len))\n"
   ]
  },
  {
   "cell_type": "code",
   "execution_count": 13,
   "metadata": {
    "colab": {
     "base_uri": "https://localhost:8080/"
    },
    "id": "6SjasShqAhCA",
    "outputId": "0e99a7e3-c2dc-4bf5-f05d-ff800ceb0037"
   },
   "outputs": [
    {
     "name": "stdout",
     "output_type": "stream",
     "text": [
      "16\n",
      "\n",
      "full text 457374430-A-E-M-P-AXXX-XXX-795-BIA-March-16-2020.txt\n",
      "Appeal Case\n",
      "print judge ('High confidence', de novo)\n",
      "print court Falls Church, Virginia\n",
      "print country of origin El Salvador\n",
      "\n",
      "full text 473847009-A-J-V-U-AXXX-XXX-645-BIA-July-10-2020.txt\n",
      "Appeal Case\n",
      "print judge ('low confidence', AXXX XXX 645)\n",
      "print court Falls Church, Virginia\n",
      "print country of origin Maracaibo\n",
      "\n",
      "full text 477308213-M-S-F-AXXX-XXX-188-BIA-Aug-27-2020.txt\n",
      "Appeal Case\n",
      "print judge ('low confidence', AXXX XXX)\n",
      "print court Falls Church, Virginia\n",
      "print country of origin Cuba\n",
      "\n",
      "full text 386774234-D-T-AXXX-XXX-959-BIA-July-27-2018.txt\n",
      "Appeal Case\n",
      "print judge ('low confidence', AXXX XXX)\n",
      "print court Falls Church, Virginia\n",
      "print country of origin Cameroon\n",
      "\n",
      "full text 452083522-M-A-D-A-AXXX-XXX-603-BIA-Feb-11-2020.txt\n",
      "Appeal Case\n",
      "print judge ('low confidence', AXXX XXX)\n",
      "print court Falls Church, Virginia\n",
      "print country of origin El Salvador\n",
      "\n",
      "full text 470814353-K-I-AXXX-XXX-247-BIA-July-7-2020.txt\n",
      "Appeal Case\n",
      "print judge ('low confidence', AXXX XXX)\n",
      "print court Falls Church, Virginia\n",
      "print country of origin United States\n",
      "\n",
      "full text 431711050-C-N-A-AXXX-XXX-484-BIA-Sept-12-2019.txt\n",
      "Appeal Case\n",
      "print judge ('low confidence', AXXX XXX)\n",
      "print court Falls Church, Houston\n",
      "print country of origin Cameroon\n",
      "\n",
      "full text 427098696-Y-M-G-L-AXXX-XXX-119-BIA-Sept-4-2019.txt\n",
      "Appeal Case\n",
      "print judge ('low confidence', AXXX XXX)\n",
      "print court US, Falls Church\n",
      "print country of origin Guatemala\n",
      "\n",
      "full text 447696312-J-V-S-E-AXXX-XXX-159-BIA-Jan-10-2020.txt\n",
      "Appeal Case\n",
      "print judge ('low confidence', AXXX XXX)\n",
      "print court Falls Church, Virginia\n",
      "print country of origin the United States\n",
      "\n",
      "full text 462824675-D-E-D-L-AXXX-XXX-662-BIA-April-10-2020.txt\n",
      "Appeal Case\n",
      "print judge ('low confidence', AXXX XXX)\n",
      "print court Virginia, Cleveland\n",
      "print country of origin Nicaragua\n",
      "\n",
      "full text 431716865-N-G-M-AXXX-XXX-926-BIA-Oct-4-2019.txt\n",
      "Appeal Case\n",
      "print judge ('low confidence', AXXX XXX)\n",
      "print court Falls Church, Virginia\n",
      "print country of origin Cuba\n",
      "\n",
      "full text 470813340-J-S-R-Z-AXXX-XXX-188-BIA-June-24-2020.txt\n",
      "Appeal Case\n",
      "print judge ('low confidence', AXXX XXX)\n",
      "print court Houston, Falls Church\n",
      "print country of origin U.S.\n",
      "\n",
      "full text 431716768-M-H-AXXX-XXX-860-BIA-Oct-4-2019.txt\n",
      "Appeal Case\n",
      "print judge ('low confidence', AXXX XXX)\n",
      "print court Falls Church, Virginia\n",
      "print country of origin Bangladesh\n",
      "\n",
      "full text 473846393-K-I-AXXX-XXX-247-BIA-July-7-2020.txt\n",
      "Appeal Case\n",
      "print judge ('low confidence', AXXX XXX)\n",
      "print court Falls Church, Virginia\n",
      "print country of origin United States\n",
      "\n",
      "full text 470810825-M-M-A-AXXX-XXX-675-BIA-June-9-2020.txt\n",
      "Appeal Case\n",
      "print judge ('low confidence', AXXX XXX)\n",
      "print court New Orleans, U.S\n",
      "print country of origin the United States\n",
      "\n",
      "full text 462828817-Z-M-AXXX-XXX-820-BIA-April-30-2020.txt\n",
      "Appeal Case\n",
      "print judge ('low confidence', AXXX XXX 820)\n",
      "print court Silver Spring, Falls Church\n",
      "print country of origin Cameroon\n"
     ]
    }
   ],
   "source": [
    "appeals = []\n",
    "originals = []\n",
    "print(len(fullTextList))\n",
    "for fullText in fullTextList:\n",
    "  print('\\nfull text', fullText[0])\n",
    "  if isAppeal(fullText[1]):\n",
    "    print('Appeal Case')\n",
    "    judge = getJudge(fullText[1])\n",
    "    print('print judge', judge)\n",
    "    court = getCourt(fullText[1])\n",
    "    print('print court', court)\n",
    "    coo = getCoO(fullText[1])\n",
    "    print('print country of origin', coo)\n",
    "    if fullText not in appeals:\n",
    "      appeals.append(fullText)\n",
    "  else:\n",
    "    print('Original Case')\n",
    "    judge = getJudge(fullText[1])\n",
    "    print('print judge: ', judge)\n",
    "    court = getCourt(fullText[1])\n",
    "    print('print court: ', court)\n",
    "    coo = getCoO(fullText[1])\n",
    "    print('print country of origin: ', coo)\n",
    "    if fullText not in originals:\n",
    "      originals.append(fullText)\n",
    "    \n",
    "    # for x in fullText[1]:\n",
    "    #   print(x)\n"
   ]
  },
  {
   "cell_type": "code",
   "execution_count": 10,
   "metadata": {
    "colab": {
     "base_uri": "https://localhost:8080/"
    },
    "id": "4Vwj6T9O_aSV",
    "outputId": "f9d8d87a-0921-41b6-e52d-8f52b0c162a2"
   },
   "outputs": [
    {
     "name": "stdout",
     "output_type": "stream",
     "text": [
      "457374430-A-E-M-P-AXXX-XXX-795-BIA-March-16-2020.txt\n",
      "['U.S. Department of Justice\\nExecutive Office for Immigration Review', 'Board of Immigration Appeals\\nOffice of the Clerk', ' ', '5107 Leesburg Pike. Suite 2000\\nFalls Church, Virginia 22041', 'Martinez, Alejandra DHS/ICE Office of Chief Counsel - PSD\\nDe Mott, McChesney, Curtright, 566 Veterans Drive\\n& Armendariz, LLP Pearsall, TX 78061', '8023 Vantage Dr., Ste 800\\nSan Antonio, TX 78230', 'Name: VS-PaS, AME... A -795\\nDate of this notice: 3/16/2020', \"Enclosed is a copy of the Board's decision and order in the above-referenced case.\", 'Sincerely,', 'Donna Carr\\nChief Clerk']\n",
      "473847009-A-J-V-U-AXXX-XXX-645-BIA-July-10-2020.txt\n",
      "['U.S. Department of Justice\\nExecutive Office for Immigration Review', 'Board of Immigration Appeals\\nOffice of the Clerk', ' ', '5107 Leesburg Pike, Suite 2000\\nFalls Church, Virginia 22041', 'Goodwin, Jodilyn Marie DHS/ICE Office of Chief Counsel - HLG\\nLaw Office of Jodi Goodwin 1717 Zoy Street\\n1221 East Harrison Avenue Harlingen, TX 78552', 'Harlingen, TX 78550', 'Riders', 'Name: Vi URES, AG... 4 GR -645\\n_____\\nDate of this notice: 7/10/2020', \"Enclosed is a copy of the Board's decision and order in the above-referenced case.\", 'Sincerely,']\n",
      "477308213-M-S-F-AXXX-XXX-188-BIA-Aug-27-2020.txt\n",
      "[' ', 'Atkinson-Flowers, Nadine Caroline\\nNadine C. Atkinson-Flowers', 'P.O Box 159', 'Folcroft, PA 19032', 'Name: Sq S, VS', 'U.S. Department of Justice\\nExecutive Office for Immigration Review', 'Board of Immigration Appeals\\nOffice of the Clerk', '5107 Leesburg Pike, Suite 2000\\nFalls Church, Virginia 22041', 'DHS/ICE Office of Chief Counsel - SDC\\n146 CCA Road, P.O.Box 248\\nLumpkin, GA 31815', 'A E-188']\n",
      "386774234-D-T-AXXX-XXX-959-BIA-July-27-2018.txt\n",
      "['U.S. Department of Justice\\nExecutive Office for Immigration Review', 'Board of Immigration Appeals\\nOffice of the Clerk', ' ', '5107 Leesburg Pike, Suste 2000\\nFalls Church, Virginia 22041', 'Oretskin, Nancy DHS/ICE Office of Chief Counsel - OTO\\nSouthwest Asylum & Migration Institute 8915 Montana Avenue, Suite O\\n1816 Anita Dr. Las Cruces NM 88001 El Paso, TX 79936', 'P.O.Box 15160\\nLas Cruces, NM 88004', 'Name: TH, OS A NEES -959\\nDate of this notice: 7/27/2018', \"Enclosed is a copy of the Board's decision and order in the above-referenced case.\", 'Sincerely,', 'Donna Can']\n",
      "452083522-M-A-D-A-AXXX-XXX-603-BIA-Feb-11-2020.txt\n",
      "['U.S. Department of Justice\\nExecutive Office for Immigration Review', 'Board of Immigration Appeals\\nOffice of the Clerk', ' ', '5107 Leesburg Pike, Suite 2000\\nFalls Church, Virginia 2204!', 'Schulz, Karen Wynholds DHS/ICE Office of Chief Counsel - SFR\\nStep Forward Foundation P.O. Box 26449\\nPO Box 123 San Francisco, CA 94126-6449', 'Morgan Hill, CA 95038', 'Name: OR -AS, VG AR A E-603\\nRice rs:', 'Date of this notice: 2/11/2020', \"Enclosed is a copy of the Board's decision and order in the above-referenced case.\", 'Sincerely,']\n",
      "470814353-K-I-AXXX-XXX-247-BIA-July-7-2020.txt\n",
      "['U.S. Department of Justice\\nExecutive Office for Immigration Review', 'Board of Immigration Appeals\\nOffice of the Clerk', ' ', '5107 Leesburg Pike, Suite 2000\\nFalls Church, Virginia 2204]', 'Proctor, Gregory Carl DHS/ICE Office of Chief Counsel - JNA\\nKramer Levin Naftalis & Frankel PO Box 410\\n990 Marsh Road Trout, LA 71371', 'Menlo Park, CA 94025', 'Nene: i A ..:', 'Date of this notice: 7/7/2020', \"Enclosed is a copy of the Board's decision and order in the above-referenced case.\", 'Sincerely,']\n",
      "431711050-C-N-A-AXXX-XXX-484-BIA-Sept-12-2019.txt\n",
      "['U.S. Department of Justice\\nExecutive Office for Immigration Review', 'Board of Immigration Appeals\\nOffice of the Clerk', ' ', '5107 Leesburg Pike, Sutte 2000\\nFalls Church, Virgima 22041', 'Powers, Ruby Lichte DHS/ICE Office of Chief Counsel\\nPowers Law Group, P.C. Montgomery Proc Ctr, 806 Hilbig Rd\\n§225 Katy Freeway Conroe, TX 77301', 'Suite 300', 'Houston, TX 77007', 'Name: Nag AR, CHa A mE -484\\nDate of this notice: 9/12/2019', \"Enclosed is a copy of the Board's decision and order in the above-referenced case.\", 'Sincerely,']\n",
      "427098696-Y-M-G-L-AXXX-XXX-119-BIA-Sept-4-2019.txt\n",
      "['US. Department of Justice\\nExecutive Office for Immigration Review', 'Board of Immigration Appeals\\nOffice of the Clerk', ' ', '5107 Leesburg Pike, Suite 2000\\nFalls Church, Virginia 22041', 'Davis, Timothy William DHS/ICE Office of Chief Counsel - BAL\\nLaw Office of Timothy W. Davis, LLC 31 Hopkins Plaza, Room 1600', '1521 South Edgewood Street Baltimore, MD 21201', 'Suite B', 'Baltimore, MD 21227', 'Name: CHS -L Sa, YE Va... A E-119\\nDate of this notice: 9/4/2019', \"Enclosed is a copy of the Board's decision and order in the above-referenced case.\"]\n",
      "447696312-J-V-S-E-AXXX-XXX-159-BIA-Jan-10-2020.txt\n",
      "[' ', 'Taj, Nabila', 'Brooklyn Defender Services\\n156 Pierrepont Street\\nBrooklyn, NY 11201', 'Name: Sia a, Ja Vi.', 'U.S. Department of Justice\\nExecutive Office for Immigration Review', 'Board of Immigration Appeals\\nOffice of the Clerk', '5107 Leesburg Pike, Suite 2000\\nFalls Church, Virginia 22041', 'DHS/ICE Office of Chief Counsel - NYD\\n201 Varick, Rm. 1130\\nNew York, NY 10014', 'APE -159', 'Date of this notice: 1/10/2020']\n",
      "462824675-D-E-D-L-AXXX-XXX-662-BIA-April-10-2020.txt\n",
      "['U.S. Department of Justice\\nExecutive Office for Immigration Review', 'Board of Immigration Appeals\\nOffice of the Clerk', ' ', '5107 Leesburg Pike, Suite 2000\\nFalls Church, Virgimia 2204]', 'Nochomovitz, Lara DHS/ICE Office of Chief Counsel - CLE\\nLSN Legal LLC 925 Keynote Circle, Room 201\\n118 Partridge Lane Brooklyn Heights, OH 44131', 'Chagrin Falls, OH 44022', 'Name: Oggg-Lgaa, OR Coa A EEN -662\\nDate of this notice: 4/10/2020', \"Enclosed is a copy of the Board's decision and order in the above-referenced case.\", 'Sincerely,', 'Denna Cans']\n",
      "431716865-N-G-M-AXXX-XXX-926-BIA-Oct-4-2019.txt\n",
      "['U.S. Department of Justice\\nExecutive Office for Immigration Review', 'Board of Immigration Appeals\\nOffice of the Clerk', ' ', '5107 Leesburg Pike, Suite 2000\\nFalls Church, Virginia 2204]', 'Lépez, Jr., Homero DHS - ICE Office of Chief Counsel ISLA OAKDALE 2', '2714 Canal St. 1010 E. Whatley Rd.', 'Ste. 300 OAKDALE, LA 71463', 'New Orleans, LA 70119', 'Name: GEE Vi. NG A EE -926\\nDate of this notice: 10/4/2019', \"Enclosed is a copy of the Board's decision and order in the above-referenced case.\"]\n",
      "470813340-J-S-R-Z-AXXX-XXX-188-BIA-June-24-2020.txt\n",
      "[' ', ' ', 'Rosas, Velia E.', 'Law Office of Velia E. Rosas, PLLC\\n5225 Katy Freeway', 'Suite 490', 'Houston, TX 77007', 'Name: RES 2, as ..', 'U.S. Department of Justice\\nExecutive Office for Immigration Review', 'Board of Immigration Appeals\\nOffice of the Clerk', '5107 Leesburg Pike, Suite 2000\\nFalls Church, Virginia 22041']\n",
      "431716768-M-H-AXXX-XXX-860-BIA-Oct-4-2019.txt\n",
      "['U.S. Department of Justice\\nExecutive Office for Immigration Review', 'Board of Immigration Appeals\\nOffice of the Clerk', ' ', '5107 Leesburg Pike, Suite 2000\\nFalls Church, Virginia 22041', 'Moravec, Joseph David DHS/ICE Office of Chief Counsel - BTV\\nPrisoners‘ Legal Services of New York 4250 Federal Dr.', '41 State St. Batavia, NY 14020', 'Ste. M112', 'Albany, NY 12207', 'Name: Ha, Va A MN -860\\nDate of this notice: 10/4/2019', \"Enclosed is a copy of the Board's decision and order in the above-referenced case.\"]\n",
      "473846393-K-I-AXXX-XXX-247-BIA-July-7-2020.txt\n",
      "[' ', 'Proctor, Gregory Carl', 'Kramer Levin Naftalis & Frankel\\n990 Marsh Road', 'Menlo Park, CA 94025', 'Name: Gy (as', 'U.S. Department of Justice\\nExecutive Office for Immigration Review', 'Board of Immigration Appeals\\nOffice of the Clerk', '5107 Leesburg Pike, Suite 2000\\nFalls Church, Virginia 22041', 'DHS/ICE Office of Chief Counsel - JNA\\nPO Box 410\\nTrout, LA 71371', 'A 247']\n",
      "470810825-M-M-A-AXXX-XXX-675-BIA-June-9-2020.txt\n",
      "['U.S. Department of Justice\\nExecutive Office for Immigration Review', 'Board of Immigration Appeals\\nOffice of the Clerk', ' ', '5107 Leesburg Pike, Suite 2000\\nFails Church. Virginia 22041', 'Page, Allyson DHS - ICE Office of Chief Counsel ISLA OAKDALE 2', '2714 Canal Street, Suite 300 1010 E. Whatley Rd.', 'New Orleans, LA 70119 OAKDALE, LA 71463', 'Name: Vi ASS, Vi A MN -675', 'Date of this notice: 6/9/2020', \"Enclosed is a copy of the Board's decision and order in the above-referenced case.\"]\n",
      "462828817-Z-M-AXXX-XXX-820-BIA-April-30-2020.txt\n",
      "[' ', 'TINGWEI, SUSAN ENGONWEI\\nLaw office of SUSan E Tingwei\\n8121 Georgia Ave ste 340\\nSilver Spring, MD 20910', 'Name: Mig, Za', 'U.S. Department of Justice\\nExecutive Office for Immigration Review', 'Board of Immigration Appeals\\nOffice of the Clerk', '5107 Leesburg Pike, Suite 2000\\nFalls Church. Virginia 22041', 'DHS/ICE Office of Chief Counsel - JNA\\nPO Box 410\\nTrout, LA 71371', 'A ME -820', 'Date of this notice: 4/30/2020', \"Enclosed is a copy of the Board's decision and order in the above-referenced case.\"]\n"
     ]
    }
   ],
   "source": [
    "fullTextList = [ocr_func(PDF_file) for PDF_file in pdfs]\n",
    "for file, text in fullTextList:\n",
    "  print(file)\n",
    "  print(text[:10])"
   ]
  },
  {
   "cell_type": "code",
   "execution_count": null,
   "metadata": {
    "colab": {
     "base_uri": "https://localhost:8080/"
    },
    "id": "SP1_of0Pjk-b",
    "outputId": "c55d5785-c585-4454-ff3f-afb5cf377d5c"
   },
   "outputs": [
    {
     "name": "stdout",
     "output_type": "stream",
     "text": [
      "Bain_Asylum Grant Gender-Based Imputed PO_EL SALVADOR_July 2019.txt\n"
     ]
    }
   ],
   "source": [
    "for name, t in appeals or original:\n",
    "  print(name)"
   ]
  },
  {
   "cell_type": "code",
   "execution_count": null,
   "metadata": {
    "id": "1QVnHS8hhLP0"
   },
   "outputs": [],
   "source": [
    "# import shutil\n",
    "\n",
    "# #using make_archive method to zip a whole directory\n",
    "# shutil.make_archive('texts', 'zip', './temp/')"
   ]
  },
  {
   "cell_type": "code",
   "execution_count": null,
   "metadata": {
    "id": "nrF-tvSnXpVw"
   },
   "outputs": [],
   "source": [
    "nlp = spacy.load('en_core_web_sm')"
   ]
  },
  {
   "cell_type": "code",
   "execution_count": null,
   "metadata": {
    "id": "wI76_57mSEgN"
   },
   "outputs": [],
   "source": [
    "docs = []\n",
    "for text in appeals or original:\n",
    "  docs.append([ent for ent in nlp(' '.join(text[1])).ents])# if ent.label_ == 'PERSON'])"
   ]
  },
  {
   "cell_type": "code",
   "execution_count": null,
   "metadata": {
    "id": "Kvl-BM5-SM8h"
   },
   "outputs": [],
   "source": [
    "fullpeopleLists = []\n",
    "for doc in docs:\n",
    "  people = []\n",
    "  for ent in doc:\n",
    "    if ent.label_ == 'PERSON':\n",
    "      people.append(ent.text)\n",
    "  fullpeopleLists.append(people)"
   ]
  },
  {
   "cell_type": "code",
   "execution_count": null,
   "metadata": {
    "colab": {
     "base_uri": "https://localhost:8080/"
    },
    "id": "3apqpEi3AoYy",
    "outputId": "f842192c-eb35-4b4f-f94e-afd5fe6ef010"
   },
   "outputs": [
    {
     "name": "stdout",
     "output_type": "stream",
     "text": [
      "ylum Grant Gender-Based Imputed PO_EL SALVADOR_July 2019.txt\n",
      "['the Lead Respondent', 'Zuh', 'Quynh V. Bain']\n",
      "the Lead Respondent\n"
     ]
    }
   ],
   "source": [
    "for idx, peopleList in enumerate(fullpeopleLists):\n",
    "  print(fullTextList[idx][0][7:])\n",
    "  if any([len(person.split(' ')) >= 3 for person in peopleList[-3:]]):\n",
    "    print(peopleList[-3:])\n",
    "    last = peopleList[-3:]\n",
    "    print(max(last, key = len) )\n",
    "  else:\n",
    "    print('not found')\n",
    "    print(peopleList[-3:])"
   ]
  },
  {
   "cell_type": "code",
   "execution_count": null,
   "metadata": {
    "id": "Savu9VU-BRO9"
   },
   "outputs": [],
   "source": [
    "placeList = []\n",
    "for doc in docs:\n",
    "  places = []\n",
    "  for ent in doc:\n",
    "    if ent.label_ == 'GPE':\n",
    "      places.append(ent.text)\n",
    "  placeList.append(places)"
   ]
  },
  {
   "cell_type": "code",
   "execution_count": null,
   "metadata": {
    "colab": {
     "base_uri": "https://localhost:8080/"
    },
    "id": "1tWgnXxCZ7Kw",
    "outputId": "e93b1151-85f8-4a94-80d0-f4630088b936"
   },
   "outputs": [
    {
     "data": {
      "text/plain": [
       "the United States Court of Appeals"
      ]
     },
     "execution_count": 156,
     "metadata": {
      "tags": []
     },
     "output_type": "execute_result"
    }
   ],
   "source": [
    "#getCourt(original[0][1])\n",
    "getCoO(appeals[0][1])"
   ]
  },
  {
   "cell_type": "code",
   "execution_count": null,
   "metadata": {
    "id": "6MpgmuaDqDMs"
   },
   "outputs": [],
   "source": []
  }
 ],
 "metadata": {
  "colab": {
   "collapsed_sections": [],
   "name": "Copy of findJudge with NLP.ipynb",
   "provenance": []
  },
  "kernelspec": {
   "display_name": "Python 3",
   "language": "python",
   "name": "python3"
  },
  "language_info": {
   "codemirror_mode": {
    "name": "ipython",
    "version": 3
   },
   "file_extension": ".py",
   "mimetype": "text/x-python",
   "name": "python",
   "nbconvert_exporter": "python",
   "pygments_lexer": "ipython3",
   "version": "3.7.9"
  }
 },
 "nbformat": 4,
 "nbformat_minor": 1
}
